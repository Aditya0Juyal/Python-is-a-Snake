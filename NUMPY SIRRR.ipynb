{
 "cells": [
  {
   "cell_type": "markdown",
   "id": "640b7bde",
   "metadata": {},
   "source": [
    "# NUMPY"
   ]
  },
  {
   "cell_type": "code",
   "execution_count": 1,
   "id": "124999e0",
   "metadata": {},
   "outputs": [
    {
     "data": {
      "text/plain": [
       "[1, 2, 34, 5]"
      ]
     },
     "execution_count": 1,
     "metadata": {},
     "output_type": "execute_result"
    }
   ],
   "source": [
    "list = [1,2,34,5]\n",
    "list"
   ]
  },
  {
   "cell_type": "code",
   "execution_count": 2,
   "id": "5db8f77f",
   "metadata": {},
   "outputs": [
    {
     "data": {
      "text/plain": [
       "2"
      ]
     },
     "execution_count": 2,
     "metadata": {},
     "output_type": "execute_result"
    }
   ],
   "source": [
    "list[1]"
   ]
  },
  {
   "cell_type": "markdown",
   "id": "49eaf7c5",
   "metadata": {},
   "source": [
    "we can run into problem using large set of data , mainly have varity of data like string , numerical ....having massive amount of data it will computational expensive , it will slower n  all \n",
    "instead of using list we use numpy for machine learning \n",
    "r"
   ]
  },
  {
   "cell_type": "code",
   "execution_count": 3,
   "id": "9d6783cf",
   "metadata": {},
   "outputs": [
    {
     "data": {
      "text/plain": [
       "array([0, 1, 2, 3, 4, 5, 6, 7, 8, 9])"
      ]
     },
     "execution_count": 3,
     "metadata": {},
     "output_type": "execute_result"
    }
   ],
   "source": [
    "import numpy as np \n",
    "# Numpy is Numerical Python , it has to be of same datatype , it have n dimensions\n",
    "np1 = np.array([0,1,2,3,4,5,6,7,8,9])\n",
    "np1"
   ]
  },
  {
   "cell_type": "code",
   "execution_count": 4,
   "id": "3511195a",
   "metadata": {},
   "outputs": [
    {
     "data": {
      "text/plain": [
       "(10,)"
      ]
     },
     "execution_count": 4,
     "metadata": {},
     "output_type": "execute_result"
    }
   ],
   "source": [
    "np1.shape # lenght also 1D "
   ]
  },
  {
   "cell_type": "code",
   "execution_count": 5,
   "id": "6498a344",
   "metadata": {},
   "outputs": [
    {
     "name": "stdout",
     "output_type": "stream",
     "text": [
      "[0 1 2 3 4 5 6 7 8 9]\n",
      "[0 2 4 6 8]\n",
      "[0. 0. 0. 0. 0. 0. 0. 0. 0. 0.]\n"
     ]
    }
   ],
   "source": [
    "np2 = np.arange(10)          #Range\n",
    "print(np2)\n",
    "np3 = np.arange(0,10,2)      #Step\n",
    "print(np3)\n",
    "np4 = np.zeros(10)           #zero\n",
    "print(np4)"
   ]
  },
  {
   "cell_type": "code",
   "execution_count": 6,
   "id": "88000565",
   "metadata": {},
   "outputs": [
    {
     "data": {
      "text/plain": [
       "array([[0., 0., 0., 0., 0., 0., 0., 0., 0., 0.],\n",
       "       [0., 0., 0., 0., 0., 0., 0., 0., 0., 0.]])"
      ]
     },
     "execution_count": 6,
     "metadata": {},
     "output_type": "execute_result"
    }
   ],
   "source": [
    "#lets go multi dimensional \n",
    "np5 = np.zeros((2,10))\n",
    "np5"
   ]
  },
  {
   "cell_type": "code",
   "execution_count": 7,
   "id": "18b8af69",
   "metadata": {},
   "outputs": [
    {
     "name": "stdout",
     "output_type": "stream",
     "text": [
      "[6 6 6 6 6 6 6 6 6 6]\n"
     ]
    },
    {
     "data": {
      "text/plain": [
       "array([[7, 7, 7, 7, 7, 7, 7, 7, 7, 7],\n",
       "       [7, 7, 7, 7, 7, 7, 7, 7, 7, 7]])"
      ]
     },
     "execution_count": 7,
     "metadata": {},
     "output_type": "execute_result"
    }
   ],
   "source": [
    "#full for no. other than zero \n",
    "np6 = np.full((10),6)\n",
    "print(np6)\n",
    "\n",
    "# multi dimensional \n",
    "np7 = np.full((2,10),7)\n",
    "np7"
   ]
  },
  {
   "cell_type": "code",
   "execution_count": 8,
   "id": "f13de33b",
   "metadata": {},
   "outputs": [
    {
     "name": "stdout",
     "output_type": "stream",
     "text": [
      "[1, 2, 34, 5]\n",
      "[ 1  2 34  5]\n"
     ]
    }
   ],
   "source": [
    "# coverting list to numpy\n",
    "print(list)\n",
    "np8 = np.array(list)\n",
    "print(np8)"
   ]
  },
  {
   "cell_type": "markdown",
   "id": "85576b5b",
   "metadata": {},
   "source": [
    "\n",
    "\n",
    "\n",
    "\n",
    "\n",
    "\n",
    "\n"
   ]
  },
  {
   "cell_type": "markdown",
   "id": "378c5878",
   "metadata": {},
   "source": [
    ".\n",
    ".\n",
    ".\n",
    ".\n",
    ".\n",
    ".\n",
    ".\n"
   ]
  },
  {
   "cell_type": "code",
   "execution_count": 9,
   "id": "defe4c14",
   "metadata": {},
   "outputs": [
    {
     "name": "stdout",
     "output_type": "stream",
     "text": [
      "[0 1 2 3 4 5 6 7 8 9]\n"
     ]
    }
   ],
   "source": [
    "#Slicing Numpy array \n",
    "print(np1)"
   ]
  },
  {
   "cell_type": "code",
   "execution_count": 10,
   "id": "79a6c8f5",
   "metadata": {},
   "outputs": [
    {
     "data": {
      "text/plain": [
       "array([1, 2, 3, 4])"
      ]
     },
     "execution_count": 10,
     "metadata": {},
     "output_type": "execute_result"
    }
   ],
   "source": [
    "np1[1:5]"
   ]
  },
  {
   "cell_type": "code",
   "execution_count": 11,
   "id": "f45bad5d",
   "metadata": {},
   "outputs": [
    {
     "data": {
      "text/plain": [
       "array([3, 4, 5, 6, 7, 8, 9])"
      ]
     },
     "execution_count": 11,
     "metadata": {},
     "output_type": "execute_result"
    }
   ],
   "source": [
    "np1[3:]"
   ]
  },
  {
   "cell_type": "code",
   "execution_count": 12,
   "id": "972fc98e",
   "metadata": {},
   "outputs": [
    {
     "data": {
      "text/plain": [
       "array([0, 1, 2, 3, 4])"
      ]
     },
     "execution_count": 12,
     "metadata": {},
     "output_type": "execute_result"
    }
   ],
   "source": [
    "np1[:5]"
   ]
  },
  {
   "cell_type": "code",
   "execution_count": 13,
   "id": "b17f84bc",
   "metadata": {},
   "outputs": [
    {
     "data": {
      "text/plain": [
       "array([7, 8])"
      ]
     },
     "execution_count": 13,
     "metadata": {},
     "output_type": "execute_result"
    }
   ],
   "source": [
    "np1[-3:-1]"
   ]
  },
  {
   "cell_type": "code",
   "execution_count": 14,
   "id": "3d07a39f",
   "metadata": {},
   "outputs": [
    {
     "data": {
      "text/plain": [
       "array([], dtype=int32)"
      ]
     },
     "execution_count": 14,
     "metadata": {},
     "output_type": "execute_result"
    }
   ],
   "source": [
    "np1[-1:-3]"
   ]
  },
  {
   "cell_type": "code",
   "execution_count": 15,
   "id": "55063b5e",
   "metadata": {},
   "outputs": [
    {
     "data": {
      "text/plain": [
       "array([1, 3, 5, 7])"
      ]
     },
     "execution_count": 15,
     "metadata": {},
     "output_type": "execute_result"
    }
   ],
   "source": [
    "np1[1:8:2]  #1 (2) 3 (4) 5 (6) 7 "
   ]
  },
  {
   "cell_type": "code",
   "execution_count": 16,
   "id": "081e1b2c",
   "metadata": {},
   "outputs": [
    {
     "data": {
      "text/plain": [
       "array([0, 2, 4, 6, 8])"
      ]
     },
     "execution_count": 16,
     "metadata": {},
     "output_type": "execute_result"
    }
   ],
   "source": [
    "np1[::2]"
   ]
  },
  {
   "cell_type": "code",
   "execution_count": 17,
   "id": "08abe791",
   "metadata": {},
   "outputs": [
    {
     "name": "stdout",
     "output_type": "stream",
     "text": [
      "[[2 2 2 2 2]\n",
      " [2 2 2 2 2]]\n"
     ]
    }
   ],
   "source": [
    "np10 = np.full((2,5),2)\n",
    "print(np10)"
   ]
  },
  {
   "cell_type": "code",
   "execution_count": 18,
   "id": "0b5d267a",
   "metadata": {},
   "outputs": [
    {
     "name": "stdout",
     "output_type": "stream",
     "text": [
      "8\n",
      "[[2 3]]\n"
     ]
    }
   ],
   "source": [
    "np10 = np.array([[1,2,3,4,5],[6,7,8,9,10]])\n",
    "\n",
    "# pull out a single item \n",
    "print(np10[1,2])\n",
    "\n",
    "#slice a 2d array\n",
    "print(np10[0:1,1:3])"
   ]
  },
  {
   "cell_type": "code",
   "execution_count": 19,
   "id": "7bc98302",
   "metadata": {},
   "outputs": [
    {
     "name": "stdout",
     "output_type": "stream",
     "text": [
      "[[2 3]\n",
      " [7 8]]\n"
     ]
    }
   ],
   "source": [
    "#slice BOTH 2d array\n",
    "print(np10[0:2,1:3])   # the first one is dimension and another one it slicing we want to do"
   ]
  },
  {
   "cell_type": "markdown",
   "id": "7ee63750",
   "metadata": {},
   "source": []
  },
  {
   "cell_type": "code",
   "execution_count": null,
   "id": "ad96e8e3",
   "metadata": {},
   "outputs": [],
   "source": []
  },
  {
   "cell_type": "code",
   "execution_count": null,
   "id": "cdfd9bdf",
   "metadata": {},
   "outputs": [],
   "source": []
  },
  {
   "cell_type": "code",
   "execution_count": 20,
   "id": "eb3e8d42",
   "metadata": {},
   "outputs": [],
   "source": [
    "# universal functions of Numpy "
   ]
  },
  {
   "cell_type": "code",
   "execution_count": 21,
   "id": "f766043a",
   "metadata": {},
   "outputs": [
    {
     "name": "stdout",
     "output_type": "stream",
     "text": [
      "[0.         1.         1.41421356 1.73205081 2.         2.23606798\n",
      " 2.44948974 2.64575131 2.82842712 3.        ]\n"
     ]
    }
   ],
   "source": [
    "print(np.sqrt(np1))\n"
   ]
  },
  {
   "cell_type": "code",
   "execution_count": 22,
   "id": "42ddb25c",
   "metadata": {},
   "outputs": [
    {
     "name": "stdout",
     "output_type": "stream",
     "text": [
      "[3 2 1 0 1 2 3]\n"
     ]
    }
   ],
   "source": [
    "np11 = np.array([-3,-2,-1,0,1,2,3])\n",
    "print(np.absolute(np11))"
   ]
  },
  {
   "cell_type": "code",
   "execution_count": 23,
   "id": "5b1bdf18",
   "metadata": {},
   "outputs": [
    {
     "data": {
      "text/plain": [
       "array([1.00000000e+00, 2.71828183e+00, 7.38905610e+00, 2.00855369e+01,\n",
       "       5.45981500e+01, 1.48413159e+02, 4.03428793e+02, 1.09663316e+03,\n",
       "       2.98095799e+03, 8.10308393e+03])"
      ]
     },
     "execution_count": 23,
     "metadata": {},
     "output_type": "execute_result"
    }
   ],
   "source": [
    "np.exp(np1)"
   ]
  },
  {
   "cell_type": "code",
   "execution_count": 24,
   "id": "8b4d3886",
   "metadata": {},
   "outputs": [
    {
     "data": {
      "text/plain": [
       "-3"
      ]
     },
     "execution_count": 24,
     "metadata": {},
     "output_type": "execute_result"
    }
   ],
   "source": [
    "np.min(np11)"
   ]
  },
  {
   "cell_type": "code",
   "execution_count": 25,
   "id": "6dfbe9db",
   "metadata": {},
   "outputs": [
    {
     "data": {
      "text/plain": [
       "3"
      ]
     },
     "execution_count": 25,
     "metadata": {},
     "output_type": "execute_result"
    }
   ],
   "source": [
    "np.max(np11)"
   ]
  },
  {
   "cell_type": "code",
   "execution_count": 26,
   "id": "c8c8a55b",
   "metadata": {},
   "outputs": [],
   "source": [
    "# copy vs view \n"
   ]
  },
  {
   "cell_type": "code",
   "execution_count": 27,
   "id": "40274aec",
   "metadata": {},
   "outputs": [
    {
     "name": "stdout",
     "output_type": "stream",
     "text": [
      "Original NP1 [0 2 3 4 5]\n",
      "Original NP2 [0 2 3 4 5]\n",
      "Changed NP1 [41  2  3  4  5]\n",
      "Original NP2 [41  2  3  4  5]\n"
     ]
    }
   ],
   "source": [
    "# import numpy as np\n",
    "np1=np.array([0,2,3,4,5])\n",
    "\n",
    "#create a view\n",
    "np2 = np1.view()\n",
    "\n",
    "print(f\"Original NP1 {np1}\")\n",
    "print(f\"Original NP2 {np2}\")\n",
    "\n",
    "np1[0] = 41\n",
    "\n",
    "print(f\"Changed NP1 {np1}\")\n",
    "print(f\"Original NP2 {np2}\")\n",
    "    \n",
    "    \n",
    "# we can see in the output below that\n",
    "# np1 was changed \n",
    "# but the np2 to which we didnt updated gets updated too\n",
    "# thes esome main difference as in view its doesnt get changed np2 will as before thee is no connection "
   ]
  },
  {
   "cell_type": "code",
   "execution_count": 28,
   "id": "49abd91c",
   "metadata": {
    "scrolled": true
   },
   "outputs": [
    {
     "name": "stdout",
     "output_type": "stream",
     "text": [
      "Original NP1 [0 2 3 4 5]\n",
      "Original NP2 [0 2 3 4 5]\n",
      "Changed NP1 [41  2  3  4  5]\n",
      "Original NP2 [0 2 3 4 5]\n"
     ]
    }
   ],
   "source": [
    "np1=np.array([0,2,3,4,5])\n",
    "#create a copy\n",
    "np2 = np1.copy()\n",
    "\n",
    "print(f\"Original NP1 {np1}\")\n",
    "print(f\"Original NP2 {np2}\")\n",
    "\n",
    "np1[0] = 41\n",
    "\n",
    "print(f\"Changed NP1 {np1}\")\n",
    "print(f\"Original NP2 {np2}\")"
   ]
  },
  {
   "cell_type": "markdown",
   "id": "8059ecf8",
   "metadata": {},
   "source": [
    "SHAPING AND RESHAPING YO\\"
   ]
  },
  {
   "cell_type": "code",
   "execution_count": 29,
   "id": "15fce3e0",
   "metadata": {},
   "outputs": [
    {
     "name": "stdout",
     "output_type": "stream",
     "text": [
      "[1 2 3 4 5 6 7 8]\n",
      "(8,)\n",
      "[[ 1  2  3  4  5  6  7  8]\n",
      " [ 9 10 11 12 13 14 15 16]]\n",
      "(2, 8)\n"
     ]
    }
   ],
   "source": [
    "import numpy as np \n",
    "np11 = np.array([1,2,3,4,5,6,7,8])\n",
    "print(np11)\n",
    "print(np11.shape)\n",
    "\n",
    "np12= np.array([[1,2,3,4,5,6,7,8],[9,10,11,12,13,14,15,16]])\n",
    "print(np12)\n",
    "print(np12.shape)\n",
    "\n"
   ]
  },
  {
   "cell_type": "code",
   "execution_count": 30,
   "id": "d8939e16",
   "metadata": {},
   "outputs": [
    {
     "name": "stdout",
     "output_type": "stream",
     "text": [
      "[[1 2]\n",
      " [3 4]\n",
      " [5 6]\n",
      " [7 8]]\n"
     ]
    }
   ],
   "source": [
    "# the real fun \n",
    "#Resphape \n",
    "np13 = np11.reshape(4,2)\n",
    "print(np13)"
   ]
  },
  {
   "cell_type": "code",
   "execution_count": 31,
   "id": "b57effa0",
   "metadata": {},
   "outputs": [
    {
     "ename": "ValueError",
     "evalue": "cannot reshape array of size 8 into shape (3,3)",
     "output_type": "error",
     "traceback": [
      "\u001b[1;31m---------------------------------------------------------------------------\u001b[0m",
      "\u001b[1;31mValueError\u001b[0m                                Traceback (most recent call last)",
      "Cell \u001b[1;32mIn[31], line 1\u001b[0m\n\u001b[1;32m----> 1\u001b[0m np14 \u001b[38;5;241m=\u001b[39m np11\u001b[38;5;241m.\u001b[39mreshape(\u001b[38;5;241m3\u001b[39m,\u001b[38;5;241m3\u001b[39m)\n\u001b[0;32m      2\u001b[0m np14\n",
      "\u001b[1;31mValueError\u001b[0m: cannot reshape array of size 8 into shape (3,3)"
     ]
    }
   ],
   "source": [
    "np14 = np11.reshape(3,3)\n",
    "np14"
   ]
  },
  {
   "cell_type": "markdown",
   "id": "8f112a59",
   "metadata": {},
   "source": [
    "# tip  the no. of these things , ixj matrix "
   ]
  },
  {
   "cell_type": "code",
   "execution_count": 32,
   "id": "47875ec0",
   "metadata": {},
   "outputs": [
    {
     "name": "stdout",
     "output_type": "stream",
     "text": [
      "[[[1 2 3 4 5 6 7 8]]]\n"
     ]
    }
   ],
   "source": [
    "np15 = np11.reshape(1,1,8)\n",
    "print(np15)"
   ]
  },
  {
   "cell_type": "code",
   "execution_count": 33,
   "id": "07c2adc4",
   "metadata": {},
   "outputs": [
    {
     "name": "stdout",
     "output_type": "stream",
     "text": [
      "[[[1]]\n",
      "\n",
      " [[2]]\n",
      "\n",
      " [[3]]\n",
      "\n",
      " [[4]]\n",
      "\n",
      " [[5]]\n",
      "\n",
      " [[6]]\n",
      "\n",
      " [[7]]\n",
      "\n",
      " [[8]]]\n"
     ]
    }
   ],
   "source": [
    "np15 = np11.reshape(8,1,1)\n",
    "print(np15)"
   ]
  },
  {
   "cell_type": "code",
   "execution_count": 34,
   "id": "d45a1951",
   "metadata": {},
   "outputs": [
    {
     "name": "stdout",
     "output_type": "stream",
     "text": [
      "[[[1]\n",
      "  [2]\n",
      "  [3]\n",
      "  [4]]\n",
      "\n",
      " [[5]\n",
      "  [6]\n",
      "  [7]\n",
      "  [8]]\n",
      "\n",
      " [[9]\n",
      "  [0]\n",
      "  [1]\n",
      "  [2]]]\n"
     ]
    }
   ],
   "source": [
    "np11= np.array([1,2,3,4,5,6,7,8,9,0,1,2])\n",
    "np15 = np11.reshape(3,4,1)\n",
    "print(np15)"
   ]
  },
  {
   "cell_type": "code",
   "execution_count": 35,
   "id": "a8756b2b",
   "metadata": {},
   "outputs": [
    {
     "name": "stdout",
     "output_type": "stream",
     "text": [
      "[[[1 2 3]\n",
      "  [4 5 6]\n",
      "  [7 8 9]\n",
      "  [0 1 2]]]\n"
     ]
    }
   ],
   "source": [
    "np15 = np11.reshape(1,4,3)\n",
    "print(np15)"
   ]
  },
  {
   "cell_type": "code",
   "execution_count": 36,
   "id": "ef3aeda9",
   "metadata": {},
   "outputs": [
    {
     "name": "stdout",
     "output_type": "stream",
     "text": [
      "[[[1 2 3 4]\n",
      "  [5 6 7 8]\n",
      "  [9 0 1 2]]]\n"
     ]
    }
   ],
   "source": [
    "np15 = np11.reshape(1,3,4)\n",
    "print(np15)"
   ]
  },
  {
   "cell_type": "code",
   "execution_count": 37,
   "id": "33f583fe",
   "metadata": {},
   "outputs": [
    {
     "name": "stdout",
     "output_type": "stream",
     "text": [
      "[[[1 2]\n",
      "  [3 4]]\n",
      "\n",
      " [[5 6]\n",
      "  [7 8]]\n",
      "\n",
      " [[9 0]\n",
      "  [1 2]]]\n"
     ]
    }
   ],
   "source": [
    "np15 = np11.reshape(3,2,2)\n",
    "print(np15)\n"
   ]
  },
  {
   "cell_type": "code",
   "execution_count": 38,
   "id": "523a2d2d",
   "metadata": {},
   "outputs": [
    {
     "ename": "SyntaxError",
     "evalue": "invalid syntax (1866441914.py, line 2)",
     "output_type": "error",
     "traceback": [
      "\u001b[1;36m  Cell \u001b[1;32mIn[38], line 2\u001b[1;36m\u001b[0m\n\u001b[1;33m    //np15 = np11.reshape(-1)\u001b[0m\n\u001b[1;37m    ^\u001b[0m\n\u001b[1;31mSyntaxError\u001b[0m\u001b[1;31m:\u001b[0m invalid syntax\n"
     ]
    }
   ],
   "source": [
    "#flatten to 1D\n",
    "//np15 = np11.reshape(-1)\n",
    "//print(np15)"
   ]
  },
  {
   "cell_type": "markdown",
   "id": "0ca9dd78",
   "metadata": {},
   "source": [
    "iteration"
   ]
  },
  {
   "cell_type": "code",
   "execution_count": 39,
   "id": "0b51317a",
   "metadata": {},
   "outputs": [
    {
     "name": "stdout",
     "output_type": "stream",
     "text": [
      "1\n",
      "2\n",
      "3\n",
      "4\n",
      "5\n",
      "6\n",
      "7\n",
      "8\n",
      "9\n",
      "0\n",
      "1\n",
      "2\n"
     ]
    }
   ],
   "source": [
    "for x in np11:\n",
    "    print(x)\n"
   ]
  },
  {
   "cell_type": "code",
   "execution_count": 40,
   "id": "e3dcc17d",
   "metadata": {},
   "outputs": [
    {
     "name": "stdout",
     "output_type": "stream",
     "text": [
      "[1 2 3 4 5 6 7 8]\n",
      "1\n",
      "2\n",
      "3\n",
      "4\n",
      "5\n",
      "6\n",
      "7\n",
      "8\n",
      "[ 9 10 11 12 13 14 15 16]\n",
      "9\n",
      "10\n",
      "11\n",
      "12\n",
      "13\n",
      "14\n",
      "15\n",
      "16\n"
     ]
    }
   ],
   "source": [
    "for x in np12:\n",
    "    print(x)\n",
    "    for y in x:\n",
    "        print(y)\n"
   ]
  },
  {
   "cell_type": "code",
   "execution_count": 41,
   "id": "e036b988",
   "metadata": {},
   "outputs": [
    {
     "name": "stdout",
     "output_type": "stream",
     "text": [
      "[[1 2]\n",
      " [3 4]]\n",
      "[1 2]\n",
      "1\n",
      "2\n",
      "\n",
      "[3 4]\n",
      "3\n",
      "4\n",
      "\n",
      "\n",
      "[[5 6]\n",
      " [7 8]]\n",
      "[5 6]\n",
      "5\n",
      "6\n",
      "\n",
      "[7 8]\n",
      "7\n",
      "8\n",
      "\n",
      "\n",
      "[[9 0]\n",
      " [1 2]]\n",
      "[9 0]\n",
      "9\n",
      "0\n",
      "\n",
      "[1 2]\n",
      "1\n",
      "2\n",
      "\n",
      "\n"
     ]
    }
   ],
   "source": [
    "for x in np15:\n",
    "    print(x)\n",
    "    for y in x:\n",
    "        print(y)\n",
    "        for z in y:\n",
    "            print(z)\n",
    "        print()\n",
    "    print()        "
   ]
  },
  {
   "cell_type": "code",
   "execution_count": 42,
   "id": "968b9f76",
   "metadata": {},
   "outputs": [
    {
     "name": "stdout",
     "output_type": "stream",
     "text": [
      "1\n",
      "2\n",
      "3\n",
      "4\n",
      "5\n",
      "6\n",
      "7\n",
      "8\n",
      "9\n",
      "0\n",
      "1\n",
      "2\n"
     ]
    }
   ],
   "source": [
    "for x in np15:\n",
    "    #print(x)\n",
    "    for y in x:\n",
    "        #print(y)\n",
    "        for z in y:\n",
    "            print(z)\n",
    "        #print()\n",
    "    #print()        "
   ]
  },
  {
   "cell_type": "code",
   "execution_count": 43,
   "id": "e83061ba",
   "metadata": {},
   "outputs": [
    {
     "name": "stdout",
     "output_type": "stream",
     "text": [
      "1\n",
      "2\n",
      "3\n",
      "4\n",
      "5\n",
      "6\n",
      "7\n",
      "8\n",
      "9\n",
      "0\n",
      "1\n",
      "2\n"
     ]
    }
   ],
   "source": [
    "# Use np.nditer()\n",
    "\n",
    "for x in np.nditer(np15):\n",
    "    print(x)"
   ]
  },
  {
   "cell_type": "markdown",
   "id": "f2622927",
   "metadata": {},
   "source": [
    "# lol f \n"
   ]
  },
  {
   "cell_type": "code",
   "execution_count": 44,
   "id": "81084f6d",
   "metadata": {},
   "outputs": [
    {
     "name": "stdout",
     "output_type": "stream",
     "text": [
      "[9.   5.   6.1  9.   7.   4.   6.09 1.  ]\n",
      "[1.   4.   5.   6.09 6.1  7.   9.   9.  ]\n"
     ]
    }
   ],
   "source": [
    "import numpy as np\n",
    "#np.sort()\n",
    "np1 = np.array([9,5,6.1,9,7,4,6.09,1])\n",
    "print(np1)\n",
    "print(np.sort(np1))"
   ]
  },
  {
   "cell_type": "code",
   "execution_count": 45,
   "id": "df5982aa",
   "metadata": {},
   "outputs": [
    {
     "name": "stdout",
     "output_type": "stream",
     "text": [
      "['adj' 'adji' 'aksht' 'hardi' 'ansh']\n",
      "['adj' 'adji' 'aksht' 'ansh' 'hardi']\n"
     ]
    }
   ],
   "source": [
    "np1 = np.array([\"adj\",\"adji\",\"aksht\",\"hardi\",\"ansh\"])\n",
    "print(np1)\n",
    "print(np.sort(np1))"
   ]
  },
  {
   "cell_type": "code",
   "execution_count": 46,
   "id": "9f44a70b",
   "metadata": {},
   "outputs": [
    {
     "name": "stdout",
     "output_type": "stream",
     "text": [
      "[ True False False  True]\n",
      "[False False  True  True]\n"
     ]
    }
   ],
   "source": [
    "np1 = np.array([True,False,False,True])\n",
    "print(np1)\n",
    "print(np.sort(np1))"
   ]
  },
  {
   "cell_type": "code",
   "execution_count": 47,
   "id": "1c019793",
   "metadata": {},
   "outputs": [
    {
     "name": "stdout",
     "output_type": "stream",
     "text": [
      "[1 0 0 1 0 1 0 1]\n",
      "[0 0 0 0 1 1 1 1]\n"
     ]
    }
   ],
   "source": [
    "np1 = np.array([True,False,False,True,0,1,0,1])\n",
    "print(np1)\n",
    "print(np.sort(np1))"
   ]
  },
  {
   "cell_type": "code",
   "execution_count": 48,
   "id": "ace61e84",
   "metadata": {},
   "outputs": [
    {
     "name": "stdout",
     "output_type": "stream",
     "text": [
      "[9 5 6 1 9 7 4 6 9 1]\n",
      "[1 1 4 5 6 6 7 9 9 9]\n",
      "[9 5 6 1 9 7 4 6 9 1]\n"
     ]
    }
   ],
   "source": [
    "# return a copy without updating it \n",
    "np1 = np.array([9,5,6,1,9,7,4,6,9,1])\n",
    "print(np1)\n",
    "print(np.sort(np1))\n",
    "print(np1)"
   ]
  },
  {
   "cell_type": "code",
   "execution_count": 49,
   "id": "775f4220",
   "metadata": {},
   "outputs": [
    {
     "name": "stdout",
     "output_type": "stream",
     "text": [
      "[[ 1  8  2  3  4  8  5]\n",
      " [ 9 10 16 45 34 23 44]]\n",
      "\n",
      "[[ 1  2  3  4  5  8  8]\n",
      " [ 9 10 16 23 34 44 45]]\n"
     ]
    }
   ],
   "source": [
    "np1= np.array([[1,8,2,3,4,8,5],[9,10,16,45,34,23,44]])\n",
    "print(np1)\n",
    "print()\n",
    "print(np.sort(np1))"
   ]
  },
  {
   "cell_type": "markdown",
   "id": "0f86c4ce",
   "metadata": {},
   "source": [
    "# SEARCHING THROUGH NUMPY ARRAY"
   ]
  },
  {
   "cell_type": "code",
   "execution_count": 50,
   "id": "b044116e",
   "metadata": {},
   "outputs": [
    {
     "name": "stdout",
     "output_type": "stream",
     "text": [
      "(array([6, 7, 8], dtype=int64),)\n"
     ]
    }
   ],
   "source": [
    "np1 = np.array([1,2,3,4,5,6,7,7,7,9,10])\n",
    "x   = np.where(np1 == 7)\n",
    "print(x)"
   ]
  },
  {
   "cell_type": "code",
   "execution_count": 51,
   "id": "52b62182",
   "metadata": {},
   "outputs": [
    {
     "name": "stdout",
     "output_type": "stream",
     "text": [
      "[6 7 8]\n"
     ]
    }
   ],
   "source": [
    "print(x[0])"
   ]
  },
  {
   "cell_type": "code",
   "execution_count": 52,
   "id": "b09843b2",
   "metadata": {},
   "outputs": [
    {
     "name": "stdout",
     "output_type": "stream",
     "text": [
      "[7 7 7]\n"
     ]
    }
   ],
   "source": [
    "print(np1[x[0]])"
   ]
  },
  {
   "cell_type": "code",
   "execution_count": 53,
   "id": "a49e8436",
   "metadata": {},
   "outputs": [
    {
     "name": "stdout",
     "output_type": "stream",
     "text": [
      "(array([ 1,  3,  5, 10], dtype=int64),)\n"
     ]
    }
   ],
   "source": [
    "y = np.where(np1 % 2 == 0)\n",
    "print(y)"
   ]
  },
  {
   "cell_type": "code",
   "execution_count": 54,
   "id": "c125d29f",
   "metadata": {},
   "outputs": [
    {
     "name": "stdout",
     "output_type": "stream",
     "text": [
      "[ 1  3  5 10]\n",
      "[ 2  4  6 10]\n"
     ]
    }
   ],
   "source": [
    "print(y[0])\n",
    "print(np1[y[0]])"
   ]
  },
  {
   "cell_type": "code",
   "execution_count": 55,
   "id": "77f6a375",
   "metadata": {},
   "outputs": [
    {
     "name": "stdout",
     "output_type": "stream",
     "text": [
      "[1 2]\n"
     ]
    }
   ],
   "source": [
    "# filtering the numpy array \n",
    "np1 = np.array([1,2,3,4,5,6,7,7,7,9,10])\n",
    "x = [True,True,False,False,False,False,False,False,False,False,False]\n",
    "print(np1[x])\n"
   ]
  },
  {
   "cell_type": "code",
   "execution_count": 56,
   "id": "d65c0b18",
   "metadata": {},
   "outputs": [
    {
     "name": "stdout",
     "output_type": "stream",
     "text": [
      "[ 1  2  3  4  5  6  7  7  7  9 10]\n",
      "[False, True, False, True, False, True, False, False, False, False, True]\n",
      "[ 2  4  6 10]\n"
     ]
    }
   ],
   "source": [
    "f1=[]\n",
    "for i in np1:\n",
    "    if i % 2 == 0:\n",
    "        f1.append(True)\n",
    "    else:\n",
    "        f1.append(False)\n",
    "\n",
    "print(np1)\n",
    "print(f1)\n",
    "print(np1[f1])"
   ]
  },
  {
   "cell_type": "code",
   "execution_count": 57,
   "id": "7ba531f0",
   "metadata": {},
   "outputs": [
    {
     "name": "stdout",
     "output_type": "stream",
     "text": [
      "[ 1  2  3  4  5  6  7  7  7  9 10]\n",
      "[False  True False  True False  True False False False False  True]\n",
      "[ 2  4  6 10]\n"
     ]
    }
   ],
   "source": [
    "#shoeirucut \n",
    "np2 = np.array([1,2,3,4,5,6,7,7,7,9,10])\n",
    "f2 = np2 % 2 == 0\n",
    "print(np2)\n",
    "print(f2)\n",
    "print(np2[f2])"
   ]
  },
  {
   "cell_type": "code",
   "execution_count": 58,
   "id": "1b8816a4",
   "metadata": {},
   "outputs": [],
   "source": [
    "# the end"
   ]
  },
  {
   "cell_type": "code",
   "execution_count": null,
   "id": "973ba251",
   "metadata": {},
   "outputs": [],
   "source": []
  }
 ],
 "metadata": {
  "kernelspec": {
   "display_name": "Python 3 (ipykernel)",
   "language": "python",
   "name": "python3"
  },
  "language_info": {
   "codemirror_mode": {
    "name": "ipython",
    "version": 3
   },
   "file_extension": ".py",
   "mimetype": "text/x-python",
   "name": "python",
   "nbconvert_exporter": "python",
   "pygments_lexer": "ipython3",
   "version": "3.11.4"
  }
 },
 "nbformat": 4,
 "nbformat_minor": 5
}
